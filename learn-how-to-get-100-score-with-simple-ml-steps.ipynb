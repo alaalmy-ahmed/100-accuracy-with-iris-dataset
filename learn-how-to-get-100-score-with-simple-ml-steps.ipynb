{
 "cells": [
  {
   "cell_type": "code",
   "execution_count": 1,
   "id": "fc3b36ee",
   "metadata": {
    "_cell_guid": "b1076dfc-b9ad-4769-8c92-a6c4dae69d19",
    "_uuid": "8f2839f25d086af736a60e9eeb907d3b93b6e0e5",
    "execution": {
     "iopub.execute_input": "2022-07-03T12:47:40.526979Z",
     "iopub.status.busy": "2022-07-03T12:47:40.526198Z",
     "iopub.status.idle": "2022-07-03T12:47:40.547295Z",
     "shell.execute_reply": "2022-07-03T12:47:40.546161Z"
    },
    "papermill": {
     "duration": 0.03533,
     "end_time": "2022-07-03T12:47:40.550280",
     "exception": false,
     "start_time": "2022-07-03T12:47:40.514950",
     "status": "completed"
    },
    "tags": []
   },
   "outputs": [
    {
     "name": "stdout",
     "output_type": "stream",
     "text": [
      "/kaggle/input/iris/Iris.csv\n",
      "/kaggle/input/iris/database.sqlite\n"
     ]
    }
   ],
   "source": [
    "# This Python 3 environment comes with many helpful analytics libraries installed\n",
    "# It is defined by the kaggle/python Docker image: https://github.com/kaggle/docker-python\n",
    "# For example, here's several helpful packages to load\n",
    "\n",
    "import numpy as np # linear algebra\n",
    "import pandas as pd # data processing, CSV file I/O (e.g. pd.read_csv)\n",
    "\n",
    "# Input data files are available in the read-only \"../input/\" directory\n",
    "# For example, running this (by clicking run or pressing Shift+Enter) will list all files under the input directory\n",
    "\n",
    "import os\n",
    "for dirname, _, filenames in os.walk('/kaggle/input'):\n",
    "    for filename in filenames:\n",
    "        print(os.path.join(dirname, filename))\n",
    "\n",
    "# You can write up to 20GB to the current directory (/kaggle/working/) that gets preserved as output when you create a version using \"Save & Run All\" \n",
    "# You can also write temporary files to /kaggle/temp/, but they won't be saved outside of the current session"
   ]
  },
  {
   "cell_type": "code",
   "execution_count": 2,
   "id": "8b5e0673",
   "metadata": {
    "execution": {
     "iopub.execute_input": "2022-07-03T12:47:40.569615Z",
     "iopub.status.busy": "2022-07-03T12:47:40.569219Z",
     "iopub.status.idle": "2022-07-03T12:47:41.868992Z",
     "shell.execute_reply": "2022-07-03T12:47:41.867612Z"
    },
    "papermill": {
     "duration": 1.313338,
     "end_time": "2022-07-03T12:47:41.872336",
     "exception": false,
     "start_time": "2022-07-03T12:47:40.558998",
     "status": "completed"
    },
    "tags": []
   },
   "outputs": [],
   "source": [
    "# Python Project Template\n",
    "# 1. Prepare Problem\n",
    "# a) Load libraries\n",
    "# b) Load dataset\n",
    "\n",
    "import pandas as pd  # dataframes manipulation.\n",
    "import numpy as np  # nd array manipulation.\n",
    "import matplotlib.pyplot as plt  # for visualizing the data.\n",
    "\n",
    "# Load libraries\n",
    "from matplotlib import pyplot\n",
    "from sklearn.model_selection import train_test_split  # to split the data into training and testing data.\n",
    "from sklearn.model_selection import KFold  # module lets us measure the performance of our model.\n",
    "from sklearn.model_selection import cross_val_score  # to calculate the score of our model.\n",
    "from sklearn.metrics import classification_report  # gives us a report about our model.\n",
    "from sklearn.metrics import confusion_matrix  # a way of showing the strength of our model.\n",
    "\n",
    "data = pd.read_csv('../input/iris/Iris.csv', index_col='Id')"
   ]
  },
  {
   "cell_type": "markdown",
   "id": "8bd34136",
   "metadata": {
    "papermill": {
     "duration": 0.008835,
     "end_time": "2022-07-03T12:47:41.890148",
     "exception": false,
     "start_time": "2022-07-03T12:47:41.881313",
     "status": "completed"
    },
    "tags": []
   },
   "source": [
    "# Describtive Analysis and Visualizing the analysis.\n",
    "### First Section for describtive analysis.\n",
    "     --> The reason here is to understand your data so you can get the best of it.\n",
    "### second section for Visualizing the data.\n",
    "    --> The Easiest way to understand your data."
   ]
  },
  {
   "cell_type": "code",
   "execution_count": 3,
   "id": "12f5282b",
   "metadata": {
    "execution": {
     "iopub.execute_input": "2022-07-03T12:47:41.910041Z",
     "iopub.status.busy": "2022-07-03T12:47:41.909404Z",
     "iopub.status.idle": "2022-07-03T12:47:41.929606Z",
     "shell.execute_reply": "2022-07-03T12:47:41.928427Z"
    },
    "papermill": {
     "duration": 0.033001,
     "end_time": "2022-07-03T12:47:41.931972",
     "exception": false,
     "start_time": "2022-07-03T12:47:41.898971",
     "status": "completed"
    },
    "tags": []
   },
   "outputs": [
    {
     "name": "stdout",
     "output_type": "stream",
     "text": [
      "The Uique values in target variable \n",
      "\n",
      " ['Iris-setosa' 'Iris-versicolor' 'Iris-virginica']\n"
     ]
    },
    {
     "data": {
      "text/plain": [
       "Id\n",
       "1      0\n",
       "2      0\n",
       "3      0\n",
       "4      0\n",
       "5      0\n",
       "      ..\n",
       "146    2\n",
       "147    2\n",
       "148    2\n",
       "149    2\n",
       "150    2\n",
       "Name: Species, Length: 150, dtype: int64"
      ]
     },
     "execution_count": 3,
     "metadata": {},
     "output_type": "execute_result"
    }
   ],
   "source": [
    "# here we will encode the target column to use it in Visulaization. As we can't work on it with out encoding.\n",
    "\n",
    "# Using this line of code will return the unique values of the target variable.\n",
    "print('The Uique values in target variable \\n\\n', data['Species'].unique())\n",
    "\n",
    "# Now we can encode each value with a number.\n",
    "dic = {'Iris-setosa':0, 'Iris-versicolor':1, 'Iris-virginica':2}\n",
    "data['Species'] = data['Species'].map(dic).astype(int)\n",
    "data['Species']"
   ]
  },
  {
   "cell_type": "code",
   "execution_count": 4,
   "id": "46558b6d",
   "metadata": {
    "execution": {
     "iopub.execute_input": "2022-07-03T12:47:41.951533Z",
     "iopub.status.busy": "2022-07-03T12:47:41.950486Z",
     "iopub.status.idle": "2022-07-03T12:47:41.970393Z",
     "shell.execute_reply": "2022-07-03T12:47:41.969043Z"
    },
    "papermill": {
     "duration": 0.032634,
     "end_time": "2022-07-03T12:47:41.973452",
     "exception": false,
     "start_time": "2022-07-03T12:47:41.940818",
     "status": "completed"
    },
    "tags": []
   },
   "outputs": [
    {
     "data": {
      "text/html": [
       "<div>\n",
       "<style scoped>\n",
       "    .dataframe tbody tr th:only-of-type {\n",
       "        vertical-align: middle;\n",
       "    }\n",
       "\n",
       "    .dataframe tbody tr th {\n",
       "        vertical-align: top;\n",
       "    }\n",
       "\n",
       "    .dataframe thead th {\n",
       "        text-align: right;\n",
       "    }\n",
       "</style>\n",
       "<table border=\"1\" class=\"dataframe\">\n",
       "  <thead>\n",
       "    <tr style=\"text-align: right;\">\n",
       "      <th></th>\n",
       "      <th>SepalLengthCm</th>\n",
       "      <th>SepalWidthCm</th>\n",
       "      <th>PetalLengthCm</th>\n",
       "      <th>PetalWidthCm</th>\n",
       "      <th>Species</th>\n",
       "    </tr>\n",
       "    <tr>\n",
       "      <th>Id</th>\n",
       "      <th></th>\n",
       "      <th></th>\n",
       "      <th></th>\n",
       "      <th></th>\n",
       "      <th></th>\n",
       "    </tr>\n",
       "  </thead>\n",
       "  <tbody>\n",
       "    <tr>\n",
       "      <th>1</th>\n",
       "      <td>5.1</td>\n",
       "      <td>3.5</td>\n",
       "      <td>1.4</td>\n",
       "      <td>0.2</td>\n",
       "      <td>0</td>\n",
       "    </tr>\n",
       "    <tr>\n",
       "      <th>2</th>\n",
       "      <td>4.9</td>\n",
       "      <td>3.0</td>\n",
       "      <td>1.4</td>\n",
       "      <td>0.2</td>\n",
       "      <td>0</td>\n",
       "    </tr>\n",
       "    <tr>\n",
       "      <th>3</th>\n",
       "      <td>4.7</td>\n",
       "      <td>3.2</td>\n",
       "      <td>1.3</td>\n",
       "      <td>0.2</td>\n",
       "      <td>0</td>\n",
       "    </tr>\n",
       "  </tbody>\n",
       "</table>\n",
       "</div>"
      ],
      "text/plain": [
       "    SepalLengthCm  SepalWidthCm  PetalLengthCm  PetalWidthCm  Species\n",
       "Id                                                                   \n",
       "1             5.1           3.5            1.4           0.2        0\n",
       "2             4.9           3.0            1.4           0.2        0\n",
       "3             4.7           3.2            1.3           0.2        0"
      ]
     },
     "execution_count": 4,
     "metadata": {},
     "output_type": "execute_result"
    }
   ],
   "source": [
    "# Seeing the head of our dataset, give it a look it worth\n",
    "data.head(3)"
   ]
  },
  {
   "cell_type": "code",
   "execution_count": 5,
   "id": "61cdb8f1",
   "metadata": {
    "execution": {
     "iopub.execute_input": "2022-07-03T12:47:41.993495Z",
     "iopub.status.busy": "2022-07-03T12:47:41.992399Z",
     "iopub.status.idle": "2022-07-03T12:47:41.999000Z",
     "shell.execute_reply": "2022-07-03T12:47:41.997563Z"
    },
    "papermill": {
     "duration": 0.019498,
     "end_time": "2022-07-03T12:47:42.001978",
     "exception": false,
     "start_time": "2022-07-03T12:47:41.982480",
     "status": "completed"
    },
    "tags": []
   },
   "outputs": [
    {
     "name": "stdout",
     "output_type": "stream",
     "text": [
      "shape is \n",
      "\n",
      " (150, 5)\n"
     ]
    }
   ],
   "source": [
    "# Showing the shape lets us understand how many data are we dealing with and how many columns are there.\n",
    "\n",
    "print('shape is \\n\\n', data.shape)"
   ]
  },
  {
   "cell_type": "code",
   "execution_count": 6,
   "id": "d74a323a",
   "metadata": {
    "execution": {
     "iopub.execute_input": "2022-07-03T12:47:42.022421Z",
     "iopub.status.busy": "2022-07-03T12:47:42.021503Z",
     "iopub.status.idle": "2022-07-03T12:47:42.028084Z",
     "shell.execute_reply": "2022-07-03T12:47:42.026814Z"
    },
    "papermill": {
     "duration": 0.019824,
     "end_time": "2022-07-03T12:47:42.031214",
     "exception": false,
     "start_time": "2022-07-03T12:47:42.011390",
     "status": "completed"
    },
    "tags": []
   },
   "outputs": [
    {
     "name": "stdout",
     "output_type": "stream",
     "text": [
      "data columns are\n",
      "\n",
      " Index(['SepalLengthCm', 'SepalWidthCm', 'PetalLengthCm', 'PetalWidthCm',\n",
      "       'Species'],\n",
      "      dtype='object')\n"
     ]
    }
   ],
   "source": [
    "# Knowing the names of our columns is a good thing, As we will work on them in the coming steps.\n",
    "\n",
    "print('data columns are\\n\\n', data.columns) "
   ]
  },
  {
   "cell_type": "code",
   "execution_count": 7,
   "id": "06459df7",
   "metadata": {
    "execution": {
     "iopub.execute_input": "2022-07-03T12:47:42.052204Z",
     "iopub.status.busy": "2022-07-03T12:47:42.051787Z",
     "iopub.status.idle": "2022-07-03T12:47:42.083442Z",
     "shell.execute_reply": "2022-07-03T12:47:42.082260Z"
    },
    "papermill": {
     "duration": 0.044907,
     "end_time": "2022-07-03T12:47:42.085785",
     "exception": false,
     "start_time": "2022-07-03T12:47:42.040878",
     "status": "completed"
    },
    "tags": []
   },
   "outputs": [
    {
     "data": {
      "text/html": [
       "<div>\n",
       "<style scoped>\n",
       "    .dataframe tbody tr th:only-of-type {\n",
       "        vertical-align: middle;\n",
       "    }\n",
       "\n",
       "    .dataframe tbody tr th {\n",
       "        vertical-align: top;\n",
       "    }\n",
       "\n",
       "    .dataframe thead th {\n",
       "        text-align: right;\n",
       "    }\n",
       "</style>\n",
       "<table border=\"1\" class=\"dataframe\">\n",
       "  <thead>\n",
       "    <tr style=\"text-align: right;\">\n",
       "      <th></th>\n",
       "      <th>SepalLengthCm</th>\n",
       "      <th>SepalWidthCm</th>\n",
       "      <th>PetalLengthCm</th>\n",
       "      <th>PetalWidthCm</th>\n",
       "      <th>Species</th>\n",
       "    </tr>\n",
       "  </thead>\n",
       "  <tbody>\n",
       "    <tr>\n",
       "      <th>count</th>\n",
       "      <td>150.000000</td>\n",
       "      <td>150.000000</td>\n",
       "      <td>150.000000</td>\n",
       "      <td>150.000000</td>\n",
       "      <td>150.000000</td>\n",
       "    </tr>\n",
       "    <tr>\n",
       "      <th>mean</th>\n",
       "      <td>5.843333</td>\n",
       "      <td>3.054000</td>\n",
       "      <td>3.758667</td>\n",
       "      <td>1.198667</td>\n",
       "      <td>1.000000</td>\n",
       "    </tr>\n",
       "    <tr>\n",
       "      <th>std</th>\n",
       "      <td>0.828066</td>\n",
       "      <td>0.433594</td>\n",
       "      <td>1.764420</td>\n",
       "      <td>0.763161</td>\n",
       "      <td>0.819232</td>\n",
       "    </tr>\n",
       "    <tr>\n",
       "      <th>min</th>\n",
       "      <td>4.300000</td>\n",
       "      <td>2.000000</td>\n",
       "      <td>1.000000</td>\n",
       "      <td>0.100000</td>\n",
       "      <td>0.000000</td>\n",
       "    </tr>\n",
       "    <tr>\n",
       "      <th>25%</th>\n",
       "      <td>5.100000</td>\n",
       "      <td>2.800000</td>\n",
       "      <td>1.600000</td>\n",
       "      <td>0.300000</td>\n",
       "      <td>0.000000</td>\n",
       "    </tr>\n",
       "    <tr>\n",
       "      <th>50%</th>\n",
       "      <td>5.800000</td>\n",
       "      <td>3.000000</td>\n",
       "      <td>4.350000</td>\n",
       "      <td>1.300000</td>\n",
       "      <td>1.000000</td>\n",
       "    </tr>\n",
       "    <tr>\n",
       "      <th>75%</th>\n",
       "      <td>6.400000</td>\n",
       "      <td>3.300000</td>\n",
       "      <td>5.100000</td>\n",
       "      <td>1.800000</td>\n",
       "      <td>2.000000</td>\n",
       "    </tr>\n",
       "    <tr>\n",
       "      <th>max</th>\n",
       "      <td>7.900000</td>\n",
       "      <td>4.400000</td>\n",
       "      <td>6.900000</td>\n",
       "      <td>2.500000</td>\n",
       "      <td>2.000000</td>\n",
       "    </tr>\n",
       "  </tbody>\n",
       "</table>\n",
       "</div>"
      ],
      "text/plain": [
       "       SepalLengthCm  SepalWidthCm  PetalLengthCm  PetalWidthCm     Species\n",
       "count     150.000000    150.000000     150.000000    150.000000  150.000000\n",
       "mean        5.843333      3.054000       3.758667      1.198667    1.000000\n",
       "std         0.828066      0.433594       1.764420      0.763161    0.819232\n",
       "min         4.300000      2.000000       1.000000      0.100000    0.000000\n",
       "25%         5.100000      2.800000       1.600000      0.300000    0.000000\n",
       "50%         5.800000      3.000000       4.350000      1.300000    1.000000\n",
       "75%         6.400000      3.300000       5.100000      1.800000    2.000000\n",
       "max         7.900000      4.400000       6.900000      2.500000    2.000000"
      ]
     },
     "execution_count": 7,
     "metadata": {},
     "output_type": "execute_result"
    }
   ],
   "source": [
    "# Some statistical analysis about the mean and median and max and standard_deviation.\n",
    "\n",
    "data.describe()"
   ]
  },
  {
   "cell_type": "code",
   "execution_count": 8,
   "id": "31b00acb",
   "metadata": {
    "execution": {
     "iopub.execute_input": "2022-07-03T12:47:42.106232Z",
     "iopub.status.busy": "2022-07-03T12:47:42.105798Z",
     "iopub.status.idle": "2022-07-03T12:47:42.115911Z",
     "shell.execute_reply": "2022-07-03T12:47:42.114438Z"
    },
    "papermill": {
     "duration": 0.023435,
     "end_time": "2022-07-03T12:47:42.118596",
     "exception": false,
     "start_time": "2022-07-03T12:47:42.095161",
     "status": "completed"
    },
    "tags": []
   },
   "outputs": [
    {
     "name": "stdout",
     "output_type": "stream",
     "text": [
      "skew is \n",
      "\n",
      " SepalLengthCm    0.314911\n",
      "SepalWidthCm     0.334053\n",
      "PetalLengthCm   -0.274464\n",
      "PetalWidthCm    -0.104997\n",
      "Species          0.000000\n",
      "dtype: float64\n"
     ]
    }
   ],
   "source": [
    "# Knowing the skew is a very important thing, this lets us understand if the data is normaly distribution\n",
    "# As if the skew gets close to zero this means it is normaly distributed.\n",
    "\n",
    "print('skew is \\n\\n', data.skew())"
   ]
  },
  {
   "cell_type": "code",
   "execution_count": 9,
   "id": "51623e98",
   "metadata": {
    "execution": {
     "iopub.execute_input": "2022-07-03T12:47:42.140392Z",
     "iopub.status.busy": "2022-07-03T12:47:42.139309Z",
     "iopub.status.idle": "2022-07-03T12:47:42.145921Z",
     "shell.execute_reply": "2022-07-03T12:47:42.144447Z"
    },
    "papermill": {
     "duration": 0.02181,
     "end_time": "2022-07-03T12:47:42.149610",
     "exception": false,
     "start_time": "2022-07-03T12:47:42.127800",
     "status": "completed"
    },
    "tags": []
   },
   "outputs": [
    {
     "name": "stdout",
     "output_type": "stream",
     "text": [
      "The Uique values in target variable \n",
      "\n",
      " [0 1 2]\n"
     ]
    }
   ],
   "source": [
    "# Showing the unique values in the target variable now.\n",
    "\n",
    "print('The Uique values in target variable \\n\\n', data['Species'].unique())"
   ]
  },
  {
   "cell_type": "code",
   "execution_count": 10,
   "id": "35867798",
   "metadata": {
    "execution": {
     "iopub.execute_input": "2022-07-03T12:47:42.172360Z",
     "iopub.status.busy": "2022-07-03T12:47:42.171938Z",
     "iopub.status.idle": "2022-07-03T12:47:42.178821Z",
     "shell.execute_reply": "2022-07-03T12:47:42.177398Z"
    },
    "papermill": {
     "duration": 0.021067,
     "end_time": "2022-07-03T12:47:42.181501",
     "exception": false,
     "start_time": "2022-07-03T12:47:42.160434",
     "status": "completed"
    },
    "tags": []
   },
   "outputs": [
    {
     "name": "stdout",
     "output_type": "stream",
     "text": [
      "How many entry in each target class \n",
      "\n",
      " 0    50\n",
      "1    50\n",
      "2    50\n",
      "Name: Species, dtype: int64\n"
     ]
    }
   ],
   "source": [
    "# This line of code shows us how many values of each unique category in the target variable.\n",
    "\n",
    "print('How many entry in each target class \\n\\n', data['Species'].value_counts()) \n",
    "\n",
    "# the target column is normaly distibuted."
   ]
  },
  {
   "cell_type": "code",
   "execution_count": 11,
   "id": "f802c981",
   "metadata": {
    "execution": {
     "iopub.execute_input": "2022-07-03T12:47:42.203239Z",
     "iopub.status.busy": "2022-07-03T12:47:42.202477Z",
     "iopub.status.idle": "2022-07-03T12:47:42.215698Z",
     "shell.execute_reply": "2022-07-03T12:47:42.214282Z"
    },
    "papermill": {
     "duration": 0.027338,
     "end_time": "2022-07-03T12:47:42.218455",
     "exception": false,
     "start_time": "2022-07-03T12:47:42.191117",
     "status": "completed"
    },
    "tags": []
   },
   "outputs": [
    {
     "name": "stdout",
     "output_type": "stream",
     "text": [
      "correlations are \n",
      "\n",
      "                SepalLengthCm  SepalWidthCm  PetalLengthCm  PetalWidthCm  \\\n",
      "SepalLengthCm       1.000000     -0.109369       0.871754      0.817954   \n",
      "SepalWidthCm       -0.109369      1.000000      -0.420516     -0.356544   \n",
      "PetalLengthCm       0.871754     -0.420516       1.000000      0.962757   \n",
      "PetalWidthCm        0.817954     -0.356544       0.962757      1.000000   \n",
      "Species             0.782561     -0.419446       0.949043      0.956464   \n",
      "\n",
      "                Species  \n",
      "SepalLengthCm  0.782561  \n",
      "SepalWidthCm  -0.419446  \n",
      "PetalLengthCm  0.949043  \n",
      "PetalWidthCm   0.956464  \n",
      "Species        1.000000  \n"
     ]
    }
   ],
   "source": [
    "print('correlations are \\n\\n', data.corr())"
   ]
  },
  {
   "cell_type": "markdown",
   "id": "e2bb1bba",
   "metadata": {
    "papermill": {
     "duration": 0.009382,
     "end_time": "2022-07-03T12:47:42.237696",
     "exception": false,
     "start_time": "2022-07-03T12:47:42.228314",
     "status": "completed"
    },
    "tags": []
   },
   "source": [
    "# Visualizaion part."
   ]
  },
  {
   "cell_type": "code",
   "execution_count": 12,
   "id": "0791ec15",
   "metadata": {
    "execution": {
     "iopub.execute_input": "2022-07-03T12:47:42.258725Z",
     "iopub.status.busy": "2022-07-03T12:47:42.257771Z",
     "iopub.status.idle": "2022-07-03T12:47:43.240423Z",
     "shell.execute_reply": "2022-07-03T12:47:43.239229Z"
    },
    "papermill": {
     "duration": 0.99559,
     "end_time": "2022-07-03T12:47:43.242848",
     "exception": false,
     "start_time": "2022-07-03T12:47:42.247258",
     "status": "completed"
    },
    "tags": []
   },
   "outputs": [
    {
     "data": {
      "text/plain": [
       "array([[<AxesSubplot:title={'center':'SepalLengthCm'}>,\n",
       "        <AxesSubplot:title={'center':'SepalWidthCm'}>],\n",
       "       [<AxesSubplot:title={'center':'PetalLengthCm'}>,\n",
       "        <AxesSubplot:title={'center':'PetalWidthCm'}>],\n",
       "       [<AxesSubplot:title={'center':'Species'}>, <AxesSubplot:>]],\n",
       "      dtype=object)"
      ]
     },
     "execution_count": 12,
     "metadata": {},
     "output_type": "execute_result"
    },
    {
     "data": {
      "image/png": "[encoded data removed]",
      "text/plain": [
       "<Figure size 720x720 with 6 Axes>"
      ]
     },
     "metadata": {
      "needs_background": "light"
     },
     "output_type": "display_data"
    }
   ],
   "source": [
    "data.hist(bins=30 , figsize=(10, 10))\n",
    "# most of the columns are normaly distributed."
   ]
  },
  {
   "cell_type": "code",
   "execution_count": 13,
   "id": "4a1fa79c",
   "metadata": {
    "execution": {
     "iopub.execute_input": "2022-07-03T12:47:43.264981Z",
     "iopub.status.busy": "2022-07-03T12:47:43.264626Z",
     "iopub.status.idle": "2022-07-03T12:47:44.036281Z",
     "shell.execute_reply": "2022-07-03T12:47:44.035393Z"
    },
    "papermill": {
     "duration": 0.785693,
     "end_time": "2022-07-03T12:47:44.038728",
     "exception": false,
     "start_time": "2022-07-03T12:47:43.253035",
     "status": "completed"
    },
    "tags": []
   },
   "outputs": [
    {
     "data": {
      "text/plain": [
       "array([[<AxesSubplot:ylabel='Density'>, <AxesSubplot:ylabel='Density'>,\n",
       "        <AxesSubplot:ylabel='Density'>],\n",
       "       [<AxesSubplot:ylabel='Density'>, <AxesSubplot:ylabel='Density'>,\n",
       "        <AxesSubplot:ylabel='Density'>],\n",
       "       [<AxesSubplot:ylabel='Density'>, <AxesSubplot:ylabel='Density'>,\n",
       "        <AxesSubplot:ylabel='Density'>]], dtype=object)"
      ]
     },
     "execution_count": 13,
     "metadata": {},
     "output_type": "execute_result"
    },
    {
     "data": {
      "image/png": "[encoded data removed]",
      "text/plain": [
       "<Figure size 720x720 with 9 Axes>"
      ]
     },
     "metadata": {
      "needs_background": "light"
     },
     "output_type": "display_data"
    }
   ],
   "source": [
    "data.plot(kind='density', subplots=True, layout=(3, 3), sharex=False, figsize=(10, 10))\n",
    "# An easy way to visualize the data and get insights."
   ]
  },
  {
   "cell_type": "code",
   "execution_count": 14,
   "id": "265a6ed3",
   "metadata": {
    "execution": {
     "iopub.execute_input": "2022-07-03T12:47:44.063215Z",
     "iopub.status.busy": "2022-07-03T12:47:44.062318Z",
     "iopub.status.idle": "2022-07-03T12:47:44.800078Z",
     "shell.execute_reply": "2022-07-03T12:47:44.799242Z"
    },
    "papermill": {
     "duration": 0.752585,
     "end_time": "2022-07-03T12:47:44.802400",
     "exception": false,
     "start_time": "2022-07-03T12:47:44.049815",
     "status": "completed"
    },
    "tags": []
   },
   "outputs": [
    {
     "data": {
      "text/plain": [
       "SepalLengthCm       AxesSubplot(0.125,0.657941;0.227941x0.222059)\n",
       "SepalWidthCm     AxesSubplot(0.398529,0.657941;0.227941x0.222059)\n",
       "PetalLengthCm    AxesSubplot(0.672059,0.657941;0.227941x0.222059)\n",
       "PetalWidthCm        AxesSubplot(0.125,0.391471;0.227941x0.222059)\n",
       "Species          AxesSubplot(0.398529,0.391471;0.227941x0.222059)\n",
       "dtype: object"
      ]
     },
     "execution_count": 14,
     "metadata": {},
     "output_type": "execute_result"
    },
    {
     "data": {
      "image/png": "[encoded data removed]",
      "text/plain": [
       "<Figure size 720x720 with 9 Axes>"
      ]
     },
     "metadata": {
      "needs_background": "light"
     },
     "output_type": "display_data"
    }
   ],
   "source": [
    "data.plot(kind='box', subplots=True, layout=(3, 3), sharex=False, sharey=False, figsize=(10, 10))\n",
    "\n",
    "# sepal width feature has some outliers."
   ]
  },
  {
   "cell_type": "code",
   "execution_count": 15,
   "id": "9e7b2ac9",
   "metadata": {
    "execution": {
     "iopub.execute_input": "2022-07-03T12:47:44.828195Z",
     "iopub.status.busy": "2022-07-03T12:47:44.826881Z",
     "iopub.status.idle": "2022-07-03T12:47:45.230510Z",
     "shell.execute_reply": "2022-07-03T12:47:45.229246Z"
    },
    "papermill": {
     "duration": 0.419345,
     "end_time": "2022-07-03T12:47:45.233286",
     "exception": false,
     "start_time": "2022-07-03T12:47:44.813941",
     "status": "completed"
    },
    "tags": []
   },
   "outputs": [
    {
     "data": {
      "text/plain": [
       "[Text(0, 0, 'SepalLengthCm'),\n",
       " Text(0, 1, 'SepalWidthCm'),\n",
       " Text(0, 2, 'PetalLengthCm'),\n",
       " Text(0, 3, 'PetalWidthCm'),\n",
       " Text(0, 4, 'Species')]"
      ]
     },
     "execution_count": 15,
     "metadata": {},
     "output_type": "execute_result"
    },
    {
     "data": {
      "image/png": "[encoded data removed]",
      "text/plain": [
       "<Figure size 1080x720 with 2 Axes>"
      ]
     },
     "metadata": {
      "needs_background": "light"
     },
     "output_type": "display_data"
    }
   ],
   "source": [
    "# Focus up here, as the color of each square gets lighter this means that the two columns are so correlated.\n",
    "# If a column is so correlated to the target this means we have a very good thing to train on.\n",
    "\n",
    "correlations = data.corr()\n",
    "# plot correlation matrix\n",
    "fig = plt.figure(figsize=(15, 10))\n",
    "ax = fig.add_subplot(111)\n",
    "cax = ax.matshow(correlations, vmin=-1, vmax=1)\n",
    "fig.colorbar(cax)\n",
    "ticks = np.arange(0, data.shape[1])\n",
    "ax.set_xticks(ticks)\n",
    "ax.set_yticks(ticks)\n",
    "ax.set_xticklabels(data.columns)\n",
    "ax.set_yticklabels(data.columns)"
   ]
  },
  {
   "cell_type": "code",
   "execution_count": 16,
   "id": "20fed2d5",
   "metadata": {
    "execution": {
     "iopub.execute_input": "2022-07-03T12:47:45.258606Z",
     "iopub.status.busy": "2022-07-03T12:47:45.258228Z",
     "iopub.status.idle": "2022-07-03T12:47:46.707695Z",
     "shell.execute_reply": "2022-07-03T12:47:46.706172Z"
    },
    "papermill": {
     "duration": 1.465911,
     "end_time": "2022-07-03T12:47:46.711008",
     "exception": false,
     "start_time": "2022-07-03T12:47:45.245097",
     "status": "completed"
    },
    "tags": []
   },
   "outputs": [
    {
     "data": {
      "text/plain": [
       "array([[<AxesSubplot:xlabel='SepalLengthCm', ylabel='SepalLengthCm'>,\n",
       "        <AxesSubplot:xlabel='SepalWidthCm', ylabel='SepalLengthCm'>,\n",
       "        <AxesSubplot:xlabel='PetalLengthCm', ylabel='SepalLengthCm'>,\n",
       "        <AxesSubplot:xlabel='PetalWidthCm', ylabel='SepalLengthCm'>,\n",
       "        <AxesSubplot:xlabel='Species', ylabel='SepalLengthCm'>],\n",
       "       [<AxesSubplot:xlabel='SepalLengthCm', ylabel='SepalWidthCm'>,\n",
       "        <AxesSubplot:xlabel='SepalWidthCm', ylabel='SepalWidthCm'>,\n",
       "        <AxesSubplot:xlabel='PetalLengthCm', ylabel='SepalWidthCm'>,\n",
       "        <AxesSubplot:xlabel='PetalWidthCm', ylabel='SepalWidthCm'>,\n",
       "        <AxesSubplot:xlabel='Species', ylabel='SepalWidthCm'>],\n",
       "       [<AxesSubplot:xlabel='SepalLengthCm', ylabel='PetalLengthCm'>,\n",
       "        <AxesSubplot:xlabel='SepalWidthCm', ylabel='PetalLengthCm'>,\n",
       "        <AxesSubplot:xlabel='PetalLengthCm', ylabel='PetalLengthCm'>,\n",
       "        <AxesSubplot:xlabel='PetalWidthCm', ylabel='PetalLengthCm'>,\n",
       "        <AxesSubplot:xlabel='Species', ylabel='PetalLengthCm'>],\n",
       "       [<AxesSubplot:xlabel='SepalLengthCm', ylabel='PetalWidthCm'>,\n",
       "        <AxesSubplot:xlabel='SepalWidthCm', ylabel='PetalWidthCm'>,\n",
       "        <AxesSubplot:xlabel='PetalLengthCm', ylabel='PetalWidthCm'>,\n",
       "        <AxesSubplot:xlabel='PetalWidthCm', ylabel='PetalWidthCm'>,\n",
       "        <AxesSubplot:xlabel='Species', ylabel='PetalWidthCm'>],\n",
       "       [<AxesSubplot:xlabel='SepalLengthCm', ylabel='Species'>,\n",
       "        <AxesSubplot:xlabel='SepalWidthCm', ylabel='Species'>,\n",
       "        <AxesSubplot:xlabel='PetalLengthCm', ylabel='Species'>,\n",
       "        <AxesSubplot:xlabel='PetalWidthCm', ylabel='Species'>,\n",
       "        <AxesSubplot:xlabel='Species', ylabel='Species'>]], dtype=object)"
      ]
     },
     "execution_count": 16,
     "metadata": {},
     "output_type": "execute_result"
    },
    {
     "data": {
      "image/png": "[encoded data removed]",
      "text/plain": [
       "<Figure size 864x576 with 25 Axes>"
      ]
     },
     "metadata": {
      "needs_background": "light"
     },
     "output_type": "display_data"
    }
   ],
   "source": [
    "# gathering correlations in scatter plot.\n",
    "\n",
    "pd.plotting.scatter_matrix(data, figsize=(12, 8))"
   ]
  },
  {
   "cell_type": "markdown",
   "id": "eae81303",
   "metadata": {
    "papermill": {
     "duration": 0.014637,
     "end_time": "2022-07-03T12:47:46.740042",
     "exception": false,
     "start_time": "2022-07-03T12:47:46.725405",
     "status": "completed"
    },
    "tags": []
   },
   "source": [
    "# Preprocessing step:\n",
    "### Cleaning..\n",
    "### imputing NaN values.\n",
    "### Encoding categorical variables.\n",
    "### Feature Engineering.\n"
   ]
  },
  {
   "cell_type": "code",
   "execution_count": 17,
   "id": "29837485",
   "metadata": {
    "execution": {
     "iopub.execute_input": "2022-07-03T12:47:46.770723Z",
     "iopub.status.busy": "2022-07-03T12:47:46.770327Z",
     "iopub.status.idle": "2022-07-03T12:47:46.778843Z",
     "shell.execute_reply": "2022-07-03T12:47:46.777654Z"
    },
    "papermill": {
     "duration": 0.02712,
     "end_time": "2022-07-03T12:47:46.781217",
     "exception": false,
     "start_time": "2022-07-03T12:47:46.754097",
     "status": "completed"
    },
    "tags": []
   },
   "outputs": [],
   "source": [
    "# As we have seen in the box plot there were some outliers in the SepalWidthCm column and here we are dealing with them \n",
    "# we will remove those outliers from the column.\n",
    "\n",
    "data.loc[data['SepalWidthCm'] > 4.0, 'SepalWidthCm']\n",
    "\n",
    "data.loc[data['SepalWidthCm'] <= 2.0, 'SepalWidthCm']\n",
    "\n",
    "# we need to remove those indecies form the data. [15, 32, 33, 60] as they represent outliers\n",
    "\n",
    "data.drop([15, 32, 33, 60], inplace=True)"
   ]
  },
  {
   "cell_type": "code",
   "execution_count": 18,
   "id": "7f685c9f",
   "metadata": {
    "execution": {
     "iopub.execute_input": "2022-07-03T12:47:46.811235Z",
     "iopub.status.busy": "2022-07-03T12:47:46.810787Z",
     "iopub.status.idle": "2022-07-03T12:47:46.821119Z",
     "shell.execute_reply": "2022-07-03T12:47:46.820173Z"
    },
    "papermill": {
     "duration": 0.028119,
     "end_time": "2022-07-03T12:47:46.823346",
     "exception": false,
     "start_time": "2022-07-03T12:47:46.795227",
     "status": "completed"
    },
    "tags": []
   },
   "outputs": [
    {
     "data": {
      "text/plain": [
       "SepalLengthCm    0\n",
       "SepalWidthCm     0\n",
       "PetalLengthCm    0\n",
       "PetalWidthCm     0\n",
       "Species          0\n",
       "dtype: int64"
      ]
     },
     "execution_count": 18,
     "metadata": {},
     "output_type": "execute_result"
    }
   ],
   "source": [
    "# See if there are any missing values in the data.\n",
    "data.isnull().sum()\n",
    "\n",
    "# There is no NaN values in the data."
   ]
  },
  {
   "cell_type": "code",
   "execution_count": 19,
   "id": "2183c3ce",
   "metadata": {
    "execution": {
     "iopub.execute_input": "2022-07-03T12:47:46.852102Z",
     "iopub.status.busy": "2022-07-03T12:47:46.851746Z",
     "iopub.status.idle": "2022-07-03T12:47:46.863969Z",
     "shell.execute_reply": "2022-07-03T12:47:46.862991Z"
    },
    "papermill": {
     "duration": 0.029398,
     "end_time": "2022-07-03T12:47:46.866192",
     "exception": false,
     "start_time": "2022-07-03T12:47:46.836794",
     "status": "completed"
    },
    "tags": []
   },
   "outputs": [
    {
     "data": {
      "text/html": [
       "<div>\n",
       "<style scoped>\n",
       "    .dataframe tbody tr th:only-of-type {\n",
       "        vertical-align: middle;\n",
       "    }\n",
       "\n",
       "    .dataframe tbody tr th {\n",
       "        vertical-align: top;\n",
       "    }\n",
       "\n",
       "    .dataframe thead th {\n",
       "        text-align: right;\n",
       "    }\n",
       "</style>\n",
       "<table border=\"1\" class=\"dataframe\">\n",
       "  <thead>\n",
       "    <tr style=\"text-align: right;\">\n",
       "      <th></th>\n",
       "    </tr>\n",
       "    <tr>\n",
       "      <th>Id</th>\n",
       "    </tr>\n",
       "  </thead>\n",
       "  <tbody>\n",
       "    <tr>\n",
       "      <th>1</th>\n",
       "    </tr>\n",
       "    <tr>\n",
       "      <th>2</th>\n",
       "    </tr>\n",
       "    <tr>\n",
       "      <th>3</th>\n",
       "    </tr>\n",
       "    <tr>\n",
       "      <th>4</th>\n",
       "    </tr>\n",
       "    <tr>\n",
       "      <th>5</th>\n",
       "    </tr>\n",
       "    <tr>\n",
       "      <th>...</th>\n",
       "    </tr>\n",
       "    <tr>\n",
       "      <th>146</th>\n",
       "    </tr>\n",
       "    <tr>\n",
       "      <th>147</th>\n",
       "    </tr>\n",
       "    <tr>\n",
       "      <th>148</th>\n",
       "    </tr>\n",
       "    <tr>\n",
       "      <th>149</th>\n",
       "    </tr>\n",
       "    <tr>\n",
       "      <th>150</th>\n",
       "    </tr>\n",
       "  </tbody>\n",
       "</table>\n",
       "<p>146 rows × 0 columns</p>\n",
       "</div>"
      ],
      "text/plain": [
       "Empty DataFrame\n",
       "Columns: []\n",
       "Index: [1, 2, 3, 4, 5, 6, 7, 8, 9, 10, 11, 12, 13, 14, 16, 17, 18, 19, 20, 21, 22, 23, 24, 25, 26, 27, 28, 29, 30, 31, 34, 35, 36, 37, 38, 39, 40, 41, 42, 43, 44, 45, 46, 47, 48, 49, 50, 51, 52, 53, 54, 55, 56, 57, 58, 59, 61, 62, 63, 64, 65, 66, 67, 68, 69, 70, 71, 72, 73, 74, 75, 76, 77, 78, 79, 80, 81, 82, 83, 84, 85, 86, 87, 88, 89, 90, 91, 92, 93, 94, 95, 96, 97, 98, 99, 100, 101, 102, 103, 104, ...]\n",
       "\n",
       "[146 rows x 0 columns]"
      ]
     },
     "execution_count": 19,
     "metadata": {},
     "output_type": "execute_result"
    }
   ],
   "source": [
    "# See if there are categorical features in the dataset.\n",
    "data.select_dtypes('object')\n",
    "\n",
    "# there are no categorical features in the dataset."
   ]
  },
  {
   "cell_type": "code",
   "execution_count": 20,
   "id": "d2638d1c",
   "metadata": {
    "execution": {
     "iopub.execute_input": "2022-07-03T12:47:46.896533Z",
     "iopub.status.busy": "2022-07-03T12:47:46.895833Z",
     "iopub.status.idle": "2022-07-03T12:47:46.906262Z",
     "shell.execute_reply": "2022-07-03T12:47:46.905371Z"
    },
    "papermill": {
     "duration": 0.028571,
     "end_time": "2022-07-03T12:47:46.908742",
     "exception": false,
     "start_time": "2022-07-03T12:47:46.880171",
     "status": "completed"
    },
    "tags": []
   },
   "outputs": [],
   "source": [
    "# see if we can make new features that might help.\n",
    "# as we have the length and width we can get the area and the perimeter\n",
    "# I don't know about the real formulas to calculate the area and perimeter of a leaf but i just did\n",
    "# it as a trial.\n",
    "\n",
    "data['sepal_area'] = data['SepalLengthCm'] * data['SepalLengthCm']\n",
    "data['petal_area'] = data['PetalLengthCm'] * data['PetalLengthCm']\n",
    "\n",
    "data['sepal_perimeter'] = (data['SepalLengthCm'] + data['SepalLengthCm']) * 2\n",
    "data['petal_perimeter'] = (data['PetalLengthCm'] + data['PetalLengthCm']) * 2\n",
    "\n",
    "# ['sepal length (cm)', 'sepal width (cm)', 'petal length (cm)',\n",
    "#        'petal width (cm)', 'target']"
   ]
  },
  {
   "cell_type": "code",
   "execution_count": 21,
   "id": "ddbb131d",
   "metadata": {
    "execution": {
     "iopub.execute_input": "2022-07-03T12:47:46.939440Z",
     "iopub.status.busy": "2022-07-03T12:47:46.939032Z",
     "iopub.status.idle": "2022-07-03T12:47:46.948384Z",
     "shell.execute_reply": "2022-07-03T12:47:46.947277Z"
    },
    "papermill": {
     "duration": 0.028029,
     "end_time": "2022-07-03T12:47:46.950901",
     "exception": false,
     "start_time": "2022-07-03T12:47:46.922872",
     "status": "completed"
    },
    "tags": []
   },
   "outputs": [],
   "source": [
    "X = data.drop('Species', axis=1)\n",
    "y = data['Species']\n",
    "\n",
    "X_train, X_test, y_train, y_test = train_test_split(X, y, test_size=0.3, random_state=7)"
   ]
  },
  {
   "cell_type": "markdown",
   "id": "bd946f36",
   "metadata": {
    "papermill": {
     "duration": 0.01408,
     "end_time": "2022-07-03T12:47:46.978948",
     "exception": false,
     "start_time": "2022-07-03T12:47:46.964868",
     "status": "completed"
    },
    "tags": []
   },
   "source": [
    "# Comparing some models to see which one is the best"
   ]
  },
  {
   "cell_type": "code",
   "execution_count": 22,
   "id": "cd402799",
   "metadata": {
    "execution": {
     "iopub.execute_input": "2022-07-03T12:47:47.010086Z",
     "iopub.status.busy": "2022-07-03T12:47:47.009301Z",
     "iopub.status.idle": "2022-07-03T12:47:52.901994Z",
     "shell.execute_reply": "2022-07-03T12:47:52.901098Z"
    },
    "papermill": {
     "duration": 5.911391,
     "end_time": "2022-07-03T12:47:52.904468",
     "exception": false,
     "start_time": "2022-07-03T12:47:46.993077",
     "status": "completed"
    },
    "tags": []
   },
   "outputs": [
    {
     "name": "stdout",
     "output_type": "stream",
     "text": [
      "Knn 0.9448275862068967 0.03516565181788128\n",
      "svc 0.9450574712643679 0.027761892670253856\n",
      "Dtc 0.9519540229885057 0.027704726244014412\n",
      "Rdf 0.9517241379310345 0.035165651817881276\n",
      "adb 0.9450574712643679 0.01717842914231672\n",
      "grdb 0.9586206896551724 0.03378606541769902\n",
      "Gaus 0.9448275862068964 0.035165651817881276\n",
      "LDA 0.9793103448275863 0.016893032708849485\n",
      "LogR 0.9519540229885057 0.027704726244014405\n",
      "MLP 0.8919540229885058 0.11369437258738611\n"
     ]
    },
    {
     "data": {
      "image/png": "[encoded data removed]",
      "text/plain": [
       "<Figure size 1080x720 with 1 Axes>"
      ]
     },
     "metadata": {
      "needs_background": "light"
     },
     "output_type": "display_data"
    }
   ],
   "source": [
    "from sklearn.neighbors import KNeighborsClassifier\n",
    "from sklearn.svm import SVC\n",
    "from sklearn.tree import DecisionTreeClassifier\n",
    "from sklearn.ensemble import RandomForestClassifier, AdaBoostClassifier, GradientBoostingClassifier\n",
    "from sklearn.naive_bayes import GaussianNB\n",
    "from sklearn.discriminant_analysis import LinearDiscriminantAnalysis\n",
    "from sklearn.linear_model import LogisticRegression\n",
    "from sklearn.neural_network import MLPClassifier\n",
    "\n",
    "models = [\n",
    "    ('Knn', KNeighborsClassifier()),\n",
    "    ('svc', SVC()),\n",
    "    ('Dtc', DecisionTreeClassifier()),\n",
    "    ('Rdf', RandomForestClassifier()),\n",
    "\t('adb', AdaBoostClassifier()),\n",
    "    ('grdb', GradientBoostingClassifier()),\n",
    "    ('Gaus', GaussianNB()),\n",
    "    ('LDA', LinearDiscriminantAnalysis()),\n",
    "    ('LogR', LogisticRegression(max_iter=1000)),\n",
    "    ('MLP', MLPClassifier(max_iter=1000))\n",
    "]\n",
    "# evaluate each model in turn\n",
    "results = []\n",
    "names = []\n",
    "scoring = 'accuracy'\n",
    "for name, model in models:\n",
    "    kfold = KFold(n_splits=5, random_state=0, shuffle=True)\n",
    "    cv_results = cross_val_score(model, X, y, cv=kfold, scoring=scoring)\n",
    "    results.append(cv_results)\n",
    "    names.append(name)\n",
    "    print(name, cv_results.mean(), cv_results.std())\n",
    "# boxplot algorithm comparison\n",
    "fig = plt.figure(figsize=(15, 10))\n",
    "fig.suptitle('Algorithm Comparison')\n",
    "ax = fig.add_subplot(111)\n",
    "plt.boxplot(results)\n",
    "ax.set_xticklabels(names)\n",
    "plt.show()"
   ]
  },
  {
   "cell_type": "code",
   "execution_count": 23,
   "id": "454d36b4",
   "metadata": {
    "execution": {
     "iopub.execute_input": "2022-07-03T12:47:52.936743Z",
     "iopub.status.busy": "2022-07-03T12:47:52.935695Z",
     "iopub.status.idle": "2022-07-03T12:47:52.952084Z",
     "shell.execute_reply": "2022-07-03T12:47:52.951043Z"
    },
    "papermill": {
     "duration": 0.036623,
     "end_time": "2022-07-03T12:47:52.956001",
     "exception": false,
     "start_time": "2022-07-03T12:47:52.919378",
     "status": "completed"
    },
    "tags": []
   },
   "outputs": [
    {
     "name": "stdout",
     "output_type": "stream",
     "text": [
      "[[11  0  0]\n",
      " [ 0 14  0]\n",
      " [ 0  0 19]]\n"
     ]
    }
   ],
   "source": [
    "from sklearn.metrics import confusion_matrix\n",
    "\n",
    "model = LinearDiscriminantAnalysis()\n",
    "\n",
    "model.fit(X_train, y_train)\n",
    "pred = model.predict(X_test)\n",
    "\n",
    "conf_met = confusion_matrix(y_test, pred)\n",
    "print(conf_met)\n",
    "\n",
    "# As you can see LinearDiscriminantAnalysis() can ba a lead model as it makes no mistakes."
   ]
  },
  {
   "cell_type": "code",
   "execution_count": 24,
   "id": "e8df8b4c",
   "metadata": {
    "execution": {
     "iopub.execute_input": "2022-07-03T12:47:52.989285Z",
     "iopub.status.busy": "2022-07-03T12:47:52.988307Z",
     "iopub.status.idle": "2022-07-03T12:47:52.992918Z",
     "shell.execute_reply": "2022-07-03T12:47:52.991977Z"
    },
    "papermill": {
     "duration": 0.022732,
     "end_time": "2022-07-03T12:47:52.994983",
     "exception": false,
     "start_time": "2022-07-03T12:47:52.972251",
     "status": "completed"
    },
    "tags": []
   },
   "outputs": [],
   "source": [
    "model = LinearDiscriminantAnalysis()"
   ]
  },
  {
   "cell_type": "code",
   "execution_count": 25,
   "id": "8a789e63",
   "metadata": {
    "execution": {
     "iopub.execute_input": "2022-07-03T12:47:53.027511Z",
     "iopub.status.busy": "2022-07-03T12:47:53.026877Z",
     "iopub.status.idle": "2022-07-03T12:47:53.036519Z",
     "shell.execute_reply": "2022-07-03T12:47:53.035542Z"
    },
    "papermill": {
     "duration": 0.029076,
     "end_time": "2022-07-03T12:47:53.039040",
     "exception": false,
     "start_time": "2022-07-03T12:47:53.009964",
     "status": "completed"
    },
    "tags": []
   },
   "outputs": [
    {
     "name": "stdout",
     "output_type": "stream",
     "text": [
      "LinearDiscriminantAnalysis score on the test set  1.0\n"
     ]
    }
   ],
   "source": [
    "model.fit(X_train, y_train)\n",
    "print('LinearDiscriminantAnalysis score on the test set ', model.score(X_test, y_test))"
   ]
  }
 ],
 "metadata": {
  "kernelspec": {
   "display_name": "Python 3",
   "language": "python",
   "name": "python3"
  },
  "language_info": {
   "codemirror_mode": {
    "name": "ipython",
    "version": 3
   },
   "file_extension": ".py",
   "mimetype": "text/x-python",
   "name": "python",
   "nbconvert_exporter": "python",
   "pygments_lexer": "ipython3",
   "version": "3.7.12"
  },
  "papermill": {
   "default_parameters": {},
   "duration": 23.954591,
   "end_time": "2022-07-03T12:47:53.977784",
   "environment_variables": {},
   "exception": null,
   "input_path": "__notebook__.ipynb",
   "output_path": "__notebook__.ipynb",
   "parameters": {},
   "start_time": "2022-07-03T12:47:30.023193",
   "version": "2.3.4"
  }
 },
 "nbformat": 4,
 "nbformat_minor": 5
}
